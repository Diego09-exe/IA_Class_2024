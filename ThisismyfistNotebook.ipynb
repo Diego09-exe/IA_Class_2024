{
  "nbformat": 4,
  "nbformat_minor": 0,
  "metadata": {
    "colab": {
      "provenance": [],
      "toc_visible": true
    },
    "kernelspec": {
      "name": "python3",
      "display_name": "Python 3"
    },
    "language_info": {
      "name": "python"
    }
  },
  "cells": [
    {
      "cell_type": "markdown",
      "source": [
        "# My fist Notebook\n",
        "\n",
        "This is my first notebook. I'm going to learn Python!\n"
      ],
      "metadata": {
        "id": "jrGQsG-U5Cih"
      }
    },
    {
      "cell_type": "code",
      "source": [
        "print(\"Hello World\")"
      ],
      "metadata": {
        "id": "vBCm0SOh5NwA"
      },
      "execution_count": null,
      "outputs": []
    }
  ]
}