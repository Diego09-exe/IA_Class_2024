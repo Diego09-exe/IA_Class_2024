{
  "nbformat": 4,
  "nbformat_minor": 0,
  "metadata": {
    "colab": {
      "provenance": []
    },
    "kernelspec": {
      "name": "python3",
      "display_name": "Python 3"
    },
    "language_info": {
      "name": "python"
    }
  },
  "cells": [
    {
      "cell_type": "markdown",
      "source": [
        "#A2 - Text analysis"
      ],
      "metadata": {
        "id": "_u8nHvmbf6un"
      }
    },
    {
      "cell_type": "code",
      "execution_count": null,
      "metadata": {
        "id": "8jhrYi4sIR-A"
      },
      "outputs": [],
      "source": [
        "import re\n",
        "from collections import Counter\n",
        "\n",
        "def text_analysis(file_path):\n",
        "    with open(file_path, 'r') as file:\n",
        "        text = file.read()\n",
        "\n",
        "    # Counting words, sentences, and paragraphs\n",
        "    words = re.findall(r'\\b\\w+\\b', text)\n",
        "    sentences = re.split(r'[.!?]+', text)\n",
        "    paragraphs = text.split('\\n\\n')\n",
        "\n",
        "    word_count = len(words)\n",
        "    sentence_count = len(sentences) - 1  # Adjust for the last empty split\n",
        "    paragraph_count = len(paragraphs)\n",
        "\n",
        "    # Average word length\n",
        "    total_word_length = sum(len(word) for word in words)\n",
        "    avg_word_length = total_word_length / word_count if word_count > 0 else 0\n",
        "\n",
        "    # Most common words\n",
        "    word_frequencies = Counter(words)\n",
        "    most_common_words = word_frequencies.most_common(10)\n",
        "\n",
        "    # Results\n",
        "    print(f'Word Count: {word_count}')\n",
        "    print(f'Sentence Count: {sentence_count}')\n",
        "    print(f'Paragraph Count: {paragraph_count}')\n",
        "    print(f'Average Word Length: {avg_word_length:.2f}')\n",
        "    print('Most Common Words:')\n",
        "    for word, freq in most_common_words:\n",
        "        print(f'{word}: {freq}')\n",
        "\n"
      ]
    },
    {
      "cell_type": "markdown",
      "source": [
        "#A2 - Hangman"
      ],
      "metadata": {
        "id": "SNCNcjDSgGq3"
      }
    },
    {
      "cell_type": "code",
      "source": [
        "import random\n",
        "\n",
        "def hangman():\n",
        "    words = ['python', 'hangman', 'programming', 'openai', 'challenge']\n",
        "    word = random.choice(words)\n",
        "    guessed = set()\n",
        "    correct_guesses = set(word)\n",
        "    attempts = 6\n",
        "    word_display = ['_'] * len(word)\n",
        "\n",
        "    while attempts > 0:\n",
        "        print(' '.join(word_display))\n",
        "        guess = input('Guess a letter: ').lower()\n",
        "\n",
        "        if guess in guessed:\n",
        "            print('You already guessed that letter.')\n",
        "        elif guess in correct_guesses:\n",
        "            guessed.add(guess)\n",
        "            for idx, letter in enumerate(word):\n",
        "                if letter == guess:\n",
        "                    word_display[idx] = letter\n",
        "            if '_' not in word_display:\n",
        "                print(f'Congratulations! You guessed the word: {word}')\n",
        "                break\n",
        "        else:\n",
        "            guessed.add(guess)\n",
        "            attempts -= 1\n",
        "            print(f'Wrong guess. Attempts left: {attempts}')\n",
        "\n",
        "        if attempts == 0:\n",
        "            print(f'Sorry, you lost. The word was: {word}')\n",
        "\n"
      ],
      "metadata": {
        "id": "qBSSnA1afvA0"
      },
      "execution_count": null,
      "outputs": []
    },
    {
      "cell_type": "markdown",
      "source": [
        "#A2 - Number guessing game"
      ],
      "metadata": {
        "id": "HZ9MFRGmgKQq"
      }
    },
    {
      "cell_type": "code",
      "source": [
        "import random\n",
        "\n",
        "def number_guessing_game():\n",
        "    target_number = random.randint(1, 100)\n",
        "    attempts = 1\n",
        "\n",
        "\n",
        "\n",
        "    while True:\n",
        "        try:\n",
        "            guess = int(input('Guess a number between 1 and 100: '))\n",
        "            attempts += 1\n",
        "\n",
        "            if guess < target_number:\n",
        "                print('Too low!')\n",
        "            elif guess > target_number:\n",
        "                print('Too high!')\n",
        "            else:\n",
        "                print(f'Congratulations! You guessed the number in {attempts} attempts.')\n",
        "                break\n",
        "        except ValueError:\n",
        "            print('Please enter a valid number.')\n",
        "\n"
      ],
      "metadata": {
        "id": "U-hP5ZZef4rl"
      },
      "execution_count": null,
      "outputs": []
    }
  ]
}