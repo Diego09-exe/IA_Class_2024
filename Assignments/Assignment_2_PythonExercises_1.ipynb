{
  "nbformat": 4,
  "nbformat_minor": 0,
  "metadata": {
    "colab": {
      "provenance": [],
      "toc_visible": true
    },
    "kernelspec": {
      "name": "python3",
      "display_name": "Python 3"
    },
    "language_info": {
      "name": "python"
    }
  },
  "cells": [
    {
      "cell_type": "markdown",
      "source": [
        "# My first Notebook\n",
        "\n",
        "This is my first notebook. I'm going to learn Python!\n"
      ],
      "metadata": {
        "id": "jrGQsG-U5Cih"
      }
    },
    {
      "cell_type": "code",
      "source": [
        "import random\n",
        "\n",
        "def number_guessing_game():\n",
        "    target_number = random.randint(1, 100)\n",
        "    attempts = 0\n",
        "\n",
        "    while True:\n",
        "        try:\n",
        "            guess = int(input('Guess a number between 1 and 100: '))\n",
        "            attempts += 1\n",
        "\n",
        "            if guess < target_number:\n",
        "                print('Too low!')\n",
        "            elif guess > target_number:\n",
        "                print('Too high!')\n",
        "            else:\n",
        "                print(f'Congratulations! You guessed the number in {attempts} attempts.')\n",
        "                break\n",
        "        except ValueError:\n",
        "            print('Please enter a valid number.')\n",
        "\n",
        "# Example usage:\n",
        "# number_guessing_game()\n"
      ],
      "metadata": {
        "id": "vBCm0SOh5NwA"
      },
      "execution_count": 2,
      "outputs": []
    },
    {
      "cell_type": "code",
      "source": [],
      "metadata": {
        "colab": {
          "base_uri": "https://localhost:8080/"
        },
        "id": "7QW_FaTA-d5v",
        "outputId": "f49f0f35-58f7-4a92-b716-44badb294912"
      },
      "execution_count": 3,
      "outputs": [
        {
          "output_type": "execute_result",
          "data": {
            "text/plain": [
              "1"
            ]
          },
          "metadata": {},
          "execution_count": 3
        }
      ]
    }
  ]
}